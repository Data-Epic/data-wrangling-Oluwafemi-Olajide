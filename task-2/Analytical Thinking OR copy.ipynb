{
 "cells": [
  {
   "cell_type": "markdown",
   "metadata": {
    "id": "6-KEzHQyCzqf"
   },
   "source": [
    "# 1. Analyze the relationship between cholesterol levels and heart attack risk, considering additional factors such as BMI, blood pressure, triglyceride levels, and lifestyle habits. What patterns indicate a stronger correlation?\n",
    "\n",
    "Data: https://drive.google.com/file/d/13ShLPdVJdjiCsyIuif4Ih45ZUA9Zu8Zz/view?usp=sharing"
   ]
  },
  {
   "cell_type": "markdown",
   "metadata": {},
   "source": [
    "## Step 1: Load the dataset"
   ]
  },
  {
   "cell_type": "code",
   "execution_count": 93,
   "metadata": {
    "id": "yXKwfX1NCpGs"
   },
   "outputs": [
    {
     "data": {
      "text/html": [
       "<div>\n",
       "<style scoped>\n",
       "    .dataframe tbody tr th:only-of-type {\n",
       "        vertical-align: middle;\n",
       "    }\n",
       "\n",
       "    .dataframe tbody tr th {\n",
       "        vertical-align: top;\n",
       "    }\n",
       "\n",
       "    .dataframe thead th {\n",
       "        text-align: right;\n",
       "    }\n",
       "</style>\n",
       "<table border=\"1\" class=\"dataframe\">\n",
       "  <thead>\n",
       "    <tr style=\"text-align: right;\">\n",
       "      <th></th>\n",
       "      <th>Age</th>\n",
       "      <th>Gender</th>\n",
       "      <th>Region</th>\n",
       "      <th>Urban/Rural</th>\n",
       "      <th>SES</th>\n",
       "      <th>Smoking Status</th>\n",
       "      <th>Alcohol Consumption</th>\n",
       "      <th>Diet Type</th>\n",
       "      <th>Physical Activity Level</th>\n",
       "      <th>Screen Time (hrs/day)</th>\n",
       "      <th>...</th>\n",
       "      <th>Stress Level</th>\n",
       "      <th>Blood Pressure (systolic/diastolic mmHg)</th>\n",
       "      <th>Resting Heart Rate (bpm)</th>\n",
       "      <th>ECG Results</th>\n",
       "      <th>Chest Pain Type</th>\n",
       "      <th>Maximum Heart Rate Achieved</th>\n",
       "      <th>Exercise Induced Angina</th>\n",
       "      <th>Blood Oxygen Levels (SpO2%)</th>\n",
       "      <th>Triglyceride Levels (mg/dL)</th>\n",
       "      <th>Heart Attack Likelihood</th>\n",
       "    </tr>\n",
       "  </thead>\n",
       "  <tbody>\n",
       "    <tr>\n",
       "      <th>0</th>\n",
       "      <td>30</td>\n",
       "      <td>Male</td>\n",
       "      <td>East_M</td>\n",
       "      <td>Urban</td>\n",
       "      <td>Middle</td>\n",
       "      <td>Never</td>\n",
       "      <td>Regularly</td>\n",
       "      <td>Non-Vegetarian</td>\n",
       "      <td>Sedentary</td>\n",
       "      <td>3</td>\n",
       "      <td>...</td>\n",
       "      <td>High</td>\n",
       "      <td>177.0/63.1</td>\n",
       "      <td>82</td>\n",
       "      <td>Normal</td>\n",
       "      <td>Non-anginal</td>\n",
       "      <td>183</td>\n",
       "      <td>No</td>\n",
       "      <td>94.1</td>\n",
       "      <td>58</td>\n",
       "      <td>No</td>\n",
       "    </tr>\n",
       "    <tr>\n",
       "      <th>1</th>\n",
       "      <td>27</td>\n",
       "      <td>Male</td>\n",
       "      <td>East_M</td>\n",
       "      <td>Urban</td>\n",
       "      <td>Middle</td>\n",
       "      <td>Occasionally</td>\n",
       "      <td>Never</td>\n",
       "      <td>Vegetarian</td>\n",
       "      <td>Sedentary</td>\n",
       "      <td>6</td>\n",
       "      <td>...</td>\n",
       "      <td>Medium</td>\n",
       "      <td>177.1/90.0</td>\n",
       "      <td>106</td>\n",
       "      <td>Normal</td>\n",
       "      <td>Non-anginal</td>\n",
       "      <td>188</td>\n",
       "      <td>No</td>\n",
       "      <td>98.4</td>\n",
       "      <td>102</td>\n",
       "      <td>Yes</td>\n",
       "    </tr>\n",
       "    <tr>\n",
       "      <th>2</th>\n",
       "      <td>20</td>\n",
       "      <td>Male</td>\n",
       "      <td>West_M</td>\n",
       "      <td>Rural</td>\n",
       "      <td>Middle</td>\n",
       "      <td>Never</td>\n",
       "      <td>Never</td>\n",
       "      <td>Non-Vegetarian</td>\n",
       "      <td>High</td>\n",
       "      <td>2</td>\n",
       "      <td>...</td>\n",
       "      <td>High</td>\n",
       "      <td>171.5/107.1</td>\n",
       "      <td>115</td>\n",
       "      <td>Normal</td>\n",
       "      <td>Atypical</td>\n",
       "      <td>142</td>\n",
       "      <td>No</td>\n",
       "      <td>93.0</td>\n",
       "      <td>129</td>\n",
       "      <td>No</td>\n",
       "    </tr>\n",
       "    <tr>\n",
       "      <th>3</th>\n",
       "      <td>29</td>\n",
       "      <td>Male</td>\n",
       "      <td>East_M</td>\n",
       "      <td>Rural</td>\n",
       "      <td>High</td>\n",
       "      <td>Regularly</td>\n",
       "      <td>Never</td>\n",
       "      <td>Non-Vegetarian</td>\n",
       "      <td>Moderate</td>\n",
       "      <td>8</td>\n",
       "      <td>...</td>\n",
       "      <td>Low</td>\n",
       "      <td>176.7/110.0</td>\n",
       "      <td>118</td>\n",
       "      <td>Normal</td>\n",
       "      <td>Non-anginal</td>\n",
       "      <td>181</td>\n",
       "      <td>No</td>\n",
       "      <td>93.4</td>\n",
       "      <td>444</td>\n",
       "      <td>No</td>\n",
       "    </tr>\n",
       "    <tr>\n",
       "      <th>4</th>\n",
       "      <td>35</td>\n",
       "      <td>Male</td>\n",
       "      <td>West_M</td>\n",
       "      <td>Urban</td>\n",
       "      <td>High</td>\n",
       "      <td>Occasionally</td>\n",
       "      <td>Never</td>\n",
       "      <td>Non-Vegetarian</td>\n",
       "      <td>Sedentary</td>\n",
       "      <td>12</td>\n",
       "      <td>...</td>\n",
       "      <td>High</td>\n",
       "      <td>140.5/106.1</td>\n",
       "      <td>110</td>\n",
       "      <td>Normal</td>\n",
       "      <td>Asymptomatic</td>\n",
       "      <td>141</td>\n",
       "      <td>No</td>\n",
       "      <td>97.1</td>\n",
       "      <td>297</td>\n",
       "      <td>No</td>\n",
       "    </tr>\n",
       "  </tbody>\n",
       "</table>\n",
       "<p>5 rows × 26 columns</p>\n",
       "</div>"
      ],
      "text/plain": [
       "   Age Gender  Region Urban/Rural     SES Smoking Status Alcohol Consumption  \\\n",
       "0   30   Male  East_M       Urban  Middle          Never           Regularly   \n",
       "1   27   Male  East_M       Urban  Middle   Occasionally               Never   \n",
       "2   20   Male  West_M       Rural  Middle          Never               Never   \n",
       "3   29   Male  East_M       Rural    High      Regularly               Never   \n",
       "4   35   Male  West_M       Urban    High   Occasionally               Never   \n",
       "\n",
       "        Diet Type Physical Activity Level  Screen Time (hrs/day)  ...  \\\n",
       "0  Non-Vegetarian               Sedentary                      3  ...   \n",
       "1      Vegetarian               Sedentary                      6  ...   \n",
       "2  Non-Vegetarian                    High                      2  ...   \n",
       "3  Non-Vegetarian                Moderate                      8  ...   \n",
       "4  Non-Vegetarian               Sedentary                     12  ...   \n",
       "\n",
       "   Stress Level Blood Pressure (systolic/diastolic mmHg)  \\\n",
       "0          High                               177.0/63.1   \n",
       "1        Medium                               177.1/90.0   \n",
       "2          High                              171.5/107.1   \n",
       "3           Low                              176.7/110.0   \n",
       "4          High                              140.5/106.1   \n",
       "\n",
       "  Resting Heart Rate (bpm) ECG Results  Chest Pain Type  \\\n",
       "0                       82      Normal      Non-anginal   \n",
       "1                      106      Normal      Non-anginal   \n",
       "2                      115      Normal         Atypical   \n",
       "3                      118      Normal      Non-anginal   \n",
       "4                      110      Normal     Asymptomatic   \n",
       "\n",
       "   Maximum Heart Rate Achieved Exercise Induced Angina  \\\n",
       "0                          183                      No   \n",
       "1                          188                      No   \n",
       "2                          142                      No   \n",
       "3                          181                      No   \n",
       "4                          141                      No   \n",
       "\n",
       "  Blood Oxygen Levels (SpO2%)  Triglyceride Levels (mg/dL)  \\\n",
       "0                        94.1                           58   \n",
       "1                        98.4                          102   \n",
       "2                        93.0                          129   \n",
       "3                        93.4                          444   \n",
       "4                        97.1                          297   \n",
       "\n",
       "  Heart Attack Likelihood  \n",
       "0                      No  \n",
       "1                     Yes  \n",
       "2                      No  \n",
       "3                      No  \n",
       "4                      No  \n",
       "\n",
       "[5 rows x 26 columns]"
      ]
     },
     "execution_count": 93,
     "metadata": {},
     "output_type": "execute_result"
    }
   ],
   "source": [
    "\n",
    "# Define the file path\n",
    "file_path = r\"C:\\Users\\Olajide FemVrich\\Desktop\\Just DATA\\PYTHON\\Data_Wrangling\\Task 2\\Heart_Attack_Male.csv\"\n",
    "\n",
    "# Read the CSV file into a DataFrame\n",
    "df = pd.read_csv(file_path)\n",
    "\n",
    "# Display the first few rows of the dataset\n",
    "df.head()"
   ]
  },
  {
   "cell_type": "markdown",
   "metadata": {},
   "source": [
    "## Step 2: Select relevant columns for analysis"
   ]
  },
  {
   "cell_type": "code",
   "execution_count": 94,
   "metadata": {},
   "outputs": [
    {
     "data": {
      "text/html": [
       "<div>\n",
       "<style scoped>\n",
       "    .dataframe tbody tr th:only-of-type {\n",
       "        vertical-align: middle;\n",
       "    }\n",
       "\n",
       "    .dataframe tbody tr th {\n",
       "        vertical-align: top;\n",
       "    }\n",
       "\n",
       "    .dataframe thead th {\n",
       "        text-align: right;\n",
       "    }\n",
       "</style>\n",
       "<table border=\"1\" class=\"dataframe\">\n",
       "  <thead>\n",
       "    <tr style=\"text-align: right;\">\n",
       "      <th></th>\n",
       "      <th>Smoking Status</th>\n",
       "      <th>Alcohol Consumption</th>\n",
       "      <th>Diet Type</th>\n",
       "      <th>Physical Activity Level</th>\n",
       "      <th>Screen Time (hrs/day)</th>\n",
       "      <th>Sleep Duration (hrs/day)</th>\n",
       "      <th>Stress Level</th>\n",
       "      <th>BMI (kg/m²)</th>\n",
       "      <th>Blood Pressure (systolic/diastolic mmHg)</th>\n",
       "      <th>Triglyceride Levels (mg/dL)</th>\n",
       "      <th>Cholesterol Levels (mg/dL)</th>\n",
       "      <th>Heart Attack Likelihood</th>\n",
       "    </tr>\n",
       "  </thead>\n",
       "  <tbody>\n",
       "    <tr>\n",
       "      <th>0</th>\n",
       "      <td>Never</td>\n",
       "      <td>Regularly</td>\n",
       "      <td>Non-Vegetarian</td>\n",
       "      <td>Sedentary</td>\n",
       "      <td>3</td>\n",
       "      <td>8</td>\n",
       "      <td>High</td>\n",
       "      <td>34.4</td>\n",
       "      <td>177.0/63.1</td>\n",
       "      <td>58</td>\n",
       "      <td>148</td>\n",
       "      <td>No</td>\n",
       "    </tr>\n",
       "    <tr>\n",
       "      <th>1</th>\n",
       "      <td>Occasionally</td>\n",
       "      <td>Never</td>\n",
       "      <td>Vegetarian</td>\n",
       "      <td>Sedentary</td>\n",
       "      <td>6</td>\n",
       "      <td>7</td>\n",
       "      <td>Medium</td>\n",
       "      <td>19.0</td>\n",
       "      <td>177.1/90.0</td>\n",
       "      <td>102</td>\n",
       "      <td>137</td>\n",
       "      <td>Yes</td>\n",
       "    </tr>\n",
       "    <tr>\n",
       "      <th>2</th>\n",
       "      <td>Never</td>\n",
       "      <td>Never</td>\n",
       "      <td>Non-Vegetarian</td>\n",
       "      <td>High</td>\n",
       "      <td>2</td>\n",
       "      <td>5</td>\n",
       "      <td>High</td>\n",
       "      <td>15.5</td>\n",
       "      <td>171.5/107.1</td>\n",
       "      <td>129</td>\n",
       "      <td>205</td>\n",
       "      <td>No</td>\n",
       "    </tr>\n",
       "    <tr>\n",
       "      <th>3</th>\n",
       "      <td>Regularly</td>\n",
       "      <td>Never</td>\n",
       "      <td>Non-Vegetarian</td>\n",
       "      <td>Moderate</td>\n",
       "      <td>8</td>\n",
       "      <td>10</td>\n",
       "      <td>Low</td>\n",
       "      <td>21.4</td>\n",
       "      <td>176.7/110.0</td>\n",
       "      <td>444</td>\n",
       "      <td>278</td>\n",
       "      <td>No</td>\n",
       "    </tr>\n",
       "    <tr>\n",
       "      <th>4</th>\n",
       "      <td>Occasionally</td>\n",
       "      <td>Never</td>\n",
       "      <td>Non-Vegetarian</td>\n",
       "      <td>Sedentary</td>\n",
       "      <td>12</td>\n",
       "      <td>9</td>\n",
       "      <td>High</td>\n",
       "      <td>30.7</td>\n",
       "      <td>140.5/106.1</td>\n",
       "      <td>297</td>\n",
       "      <td>268</td>\n",
       "      <td>No</td>\n",
       "    </tr>\n",
       "  </tbody>\n",
       "</table>\n",
       "</div>"
      ],
      "text/plain": [
       "  Smoking Status Alcohol Consumption       Diet Type Physical Activity Level  \\\n",
       "0          Never           Regularly  Non-Vegetarian               Sedentary   \n",
       "1   Occasionally               Never      Vegetarian               Sedentary   \n",
       "2          Never               Never  Non-Vegetarian                    High   \n",
       "3      Regularly               Never  Non-Vegetarian                Moderate   \n",
       "4   Occasionally               Never  Non-Vegetarian               Sedentary   \n",
       "\n",
       "   Screen Time (hrs/day)  Sleep Duration (hrs/day) Stress Level  BMI (kg/m²)  \\\n",
       "0                      3                         8         High         34.4   \n",
       "1                      6                         7       Medium         19.0   \n",
       "2                      2                         5         High         15.5   \n",
       "3                      8                        10          Low         21.4   \n",
       "4                     12                         9         High         30.7   \n",
       "\n",
       "  Blood Pressure (systolic/diastolic mmHg)  Triglyceride Levels (mg/dL)  \\\n",
       "0                               177.0/63.1                           58   \n",
       "1                               177.1/90.0                          102   \n",
       "2                              171.5/107.1                          129   \n",
       "3                              176.7/110.0                          444   \n",
       "4                              140.5/106.1                          297   \n",
       "\n",
       "   Cholesterol Levels (mg/dL) Heart Attack Likelihood  \n",
       "0                         148                      No  \n",
       "1                         137                     Yes  \n",
       "2                         205                      No  \n",
       "3                         278                      No  \n",
       "4                         268                      No  "
      ]
     },
     "execution_count": 94,
     "metadata": {},
     "output_type": "execute_result"
    }
   ],
   "source": [
    "\n",
    "# Define the required columns for analysis\n",
    "selected_columns = [\n",
    "    'Smoking Status', 'Alcohol Consumption', 'Diet Type', \n",
    "    'Physical Activity Level', 'Screen Time (hrs/day)', \n",
    "    'Sleep Duration (hrs/day)', 'Stress Level', \n",
    "    'BMI (kg/m²)', 'Blood Pressure (systolic/diastolic mmHg)', \n",
    "    'Triglyceride Levels (mg/dL)', 'Cholesterol Levels (mg/dL)', \n",
    "    'Heart Attack Likelihood'\n",
    "]\n",
    "\n",
    "# Create a new DataFrame containing only the selected columns\n",
    "df_analysis = df[selected_columns].copy()\n",
    "\n",
    "# Display the first few rows of the new DataFrame\n",
    "df_analysis.head()"
   ]
  },
  {
   "cell_type": "markdown",
   "metadata": {},
   "source": [
    "## Step 3: Identify ordinal columns and their unique values"
   ]
  },
  {
   "cell_type": "code",
   "execution_count": 95,
   "metadata": {},
   "outputs": [
    {
     "name": "stdout",
     "output_type": "stream",
     "text": [
      "Unique values in 'Smoking Status': ['Never' 'Occasionally' 'Regularly']\n",
      "\n",
      "Unique values in 'Alcohol Consumption': ['Regularly' 'Never' 'Occasionally']\n",
      "\n",
      "Unique values in 'Diet Type': ['Non-Vegetarian' 'Vegetarian' 'Vegan']\n",
      "\n",
      "Unique values in 'Physical Activity Level': ['Sedentary' 'High' 'Moderate']\n",
      "\n",
      "Unique values in 'Stress Level': ['High' 'Medium' 'Low']\n",
      "\n",
      "Unique values in 'Heart Attack Likelihood': ['No' 'Yes']\n",
      "\n"
     ]
    }
   ],
   "source": [
    "\n",
    "# Define ordinal columns\n",
    "ordinal_columns = [\n",
    "    'Smoking Status', 'Alcohol Consumption', 'Diet Type',\n",
    "    'Physical Activity Level', 'Stress Level', 'Heart Attack Likelihood'\n",
    "]\n",
    "\n",
    "# Print unique values for each ordinal column\n",
    "for col in ordinal_columns:\n",
    "    print(f\"Unique values in '{col}': {df_analysis[col].unique()}\\n\")"
   ]
  },
  {
   "cell_type": "markdown",
   "metadata": {},
   "source": [
    "## Step 4: Encode ordinal categorical variables"
   ]
  },
  {
   "cell_type": "code",
   "execution_count": 97,
   "metadata": {},
   "outputs": [],
   "source": [
    "# Define ordinal mappings\n",
    "ordinal_mappings = {\n",
    "    'Smoking Status': {'Never': 0, 'Occasionally': 1, 'Regularly': 2},\n",
    "    'Alcohol Consumption': {'Never': 0, 'Occasionally': 1, 'Regularly': 2},\n",
    "    'Diet Type': {'Vegan': 0, 'Vegetarian': 1, 'Non-Vegetarian': 2},\n",
    "    'Physical Activity Level': {'Sedentary': 0, 'Moderate': 1, 'High': 2},\n",
    "    'Stress Level': {'Low': 0, 'Medium': 1, 'High': 2},\n",
    "    'Heart Attack Likelihood': {'No': 0, 'Yes': 1}  # Binary categorical\n",
    "}\n",
    "\n",
    "# Apply the mapping to convert categorical variables into numerical values\n",
    "df_analysis.replace(ordinal_mappings, inplace=True)"
   ]
  },
  {
   "cell_type": "markdown",
   "metadata": {},
   "source": [
    "## Step 5: Split Blood Pressure into Systolic and Diastolic"
   ]
  },
  {
   "cell_type": "code",
   "execution_count": 98,
   "metadata": {},
   "outputs": [
    {
     "data": {
      "text/html": [
       "<div>\n",
       "<style scoped>\n",
       "    .dataframe tbody tr th:only-of-type {\n",
       "        vertical-align: middle;\n",
       "    }\n",
       "\n",
       "    .dataframe tbody tr th {\n",
       "        vertical-align: top;\n",
       "    }\n",
       "\n",
       "    .dataframe thead th {\n",
       "        text-align: right;\n",
       "    }\n",
       "</style>\n",
       "<table border=\"1\" class=\"dataframe\">\n",
       "  <thead>\n",
       "    <tr style=\"text-align: right;\">\n",
       "      <th></th>\n",
       "      <th>Smoking Status</th>\n",
       "      <th>Alcohol Consumption</th>\n",
       "      <th>Diet Type</th>\n",
       "      <th>Physical Activity Level</th>\n",
       "      <th>Screen Time (hrs/day)</th>\n",
       "      <th>Sleep Duration (hrs/day)</th>\n",
       "      <th>Stress Level</th>\n",
       "      <th>BMI (kg/m²)</th>\n",
       "      <th>Triglyceride Levels (mg/dL)</th>\n",
       "      <th>Cholesterol Levels (mg/dL)</th>\n",
       "      <th>Heart Attack Likelihood</th>\n",
       "      <th>Systolic_BP</th>\n",
       "      <th>Diastolic_BP</th>\n",
       "    </tr>\n",
       "  </thead>\n",
       "  <tbody>\n",
       "    <tr>\n",
       "      <th>0</th>\n",
       "      <td>0</td>\n",
       "      <td>2</td>\n",
       "      <td>2</td>\n",
       "      <td>0</td>\n",
       "      <td>3</td>\n",
       "      <td>8</td>\n",
       "      <td>2</td>\n",
       "      <td>34.4</td>\n",
       "      <td>58</td>\n",
       "      <td>148</td>\n",
       "      <td>0</td>\n",
       "      <td>177.0</td>\n",
       "      <td>63.1</td>\n",
       "    </tr>\n",
       "    <tr>\n",
       "      <th>1</th>\n",
       "      <td>1</td>\n",
       "      <td>0</td>\n",
       "      <td>1</td>\n",
       "      <td>0</td>\n",
       "      <td>6</td>\n",
       "      <td>7</td>\n",
       "      <td>1</td>\n",
       "      <td>19.0</td>\n",
       "      <td>102</td>\n",
       "      <td>137</td>\n",
       "      <td>1</td>\n",
       "      <td>177.1</td>\n",
       "      <td>90.0</td>\n",
       "    </tr>\n",
       "    <tr>\n",
       "      <th>2</th>\n",
       "      <td>0</td>\n",
       "      <td>0</td>\n",
       "      <td>2</td>\n",
       "      <td>2</td>\n",
       "      <td>2</td>\n",
       "      <td>5</td>\n",
       "      <td>2</td>\n",
       "      <td>15.5</td>\n",
       "      <td>129</td>\n",
       "      <td>205</td>\n",
       "      <td>0</td>\n",
       "      <td>171.5</td>\n",
       "      <td>107.1</td>\n",
       "    </tr>\n",
       "    <tr>\n",
       "      <th>3</th>\n",
       "      <td>2</td>\n",
       "      <td>0</td>\n",
       "      <td>2</td>\n",
       "      <td>1</td>\n",
       "      <td>8</td>\n",
       "      <td>10</td>\n",
       "      <td>0</td>\n",
       "      <td>21.4</td>\n",
       "      <td>444</td>\n",
       "      <td>278</td>\n",
       "      <td>0</td>\n",
       "      <td>176.7</td>\n",
       "      <td>110.0</td>\n",
       "    </tr>\n",
       "    <tr>\n",
       "      <th>4</th>\n",
       "      <td>1</td>\n",
       "      <td>0</td>\n",
       "      <td>2</td>\n",
       "      <td>0</td>\n",
       "      <td>12</td>\n",
       "      <td>9</td>\n",
       "      <td>2</td>\n",
       "      <td>30.7</td>\n",
       "      <td>297</td>\n",
       "      <td>268</td>\n",
       "      <td>0</td>\n",
       "      <td>140.5</td>\n",
       "      <td>106.1</td>\n",
       "    </tr>\n",
       "  </tbody>\n",
       "</table>\n",
       "</div>"
      ],
      "text/plain": [
       "   Smoking Status  Alcohol Consumption  Diet Type  Physical Activity Level  \\\n",
       "0               0                    2          2                        0   \n",
       "1               1                    0          1                        0   \n",
       "2               0                    0          2                        2   \n",
       "3               2                    0          2                        1   \n",
       "4               1                    0          2                        0   \n",
       "\n",
       "   Screen Time (hrs/day)  Sleep Duration (hrs/day)  Stress Level  BMI (kg/m²)  \\\n",
       "0                      3                         8             2         34.4   \n",
       "1                      6                         7             1         19.0   \n",
       "2                      2                         5             2         15.5   \n",
       "3                      8                        10             0         21.4   \n",
       "4                     12                         9             2         30.7   \n",
       "\n",
       "   Triglyceride Levels (mg/dL)  Cholesterol Levels (mg/dL)  \\\n",
       "0                           58                         148   \n",
       "1                          102                         137   \n",
       "2                          129                         205   \n",
       "3                          444                         278   \n",
       "4                          297                         268   \n",
       "\n",
       "   Heart Attack Likelihood  Systolic_BP  Diastolic_BP  \n",
       "0                        0        177.0          63.1  \n",
       "1                        1        177.1          90.0  \n",
       "2                        0        171.5         107.1  \n",
       "3                        0        176.7         110.0  \n",
       "4                        0        140.5         106.1  "
      ]
     },
     "execution_count": 98,
     "metadata": {},
     "output_type": "execute_result"
    }
   ],
   "source": [
    "# Ensure the column is a string before splitting\n",
    "df_analysis[['Systolic_BP', 'Diastolic_BP']] = df_analysis['Blood Pressure (systolic/diastolic mmHg)']\\\n",
    "    .astype(str).str.split('/', expand=True).astype(float)\n",
    "\n",
    "# Drop the original Blood Pressure column (optional)\n",
    "df_analysis.drop(columns=['Blood Pressure (systolic/diastolic mmHg)'], inplace=True)\n",
    "\n",
    "# Display the updated DataFrame\n",
    "df_analysis.head()"
   ]
  },
  {
   "cell_type": "markdown",
   "metadata": {},
   "source": [
    "## Step 6: Compute correlation with Heart Attack Likelihood"
   ]
  },
  {
   "cell_type": "code",
   "execution_count": 99,
   "metadata": {},
   "outputs": [
    {
     "name": "stdout",
     "output_type": "stream",
     "text": [
      "Correlation with Heart Attack Likelihood (Sorted):\n",
      "Heart Attack Likelihood        1.000000\n",
      "Stress Level                   0.014651\n",
      "Cholesterol Levels (mg/dL)     0.007090\n",
      "Diastolic_BP                   0.006630\n",
      "BMI (kg/m²)                    0.006534\n",
      "Diet Type                      0.004607\n",
      "Triglyceride Levels (mg/dL)    0.004346\n",
      "Systolic_BP                    0.002740\n",
      "Alcohol Consumption           -0.001595\n",
      "Smoking Status                -0.004950\n",
      "Physical Activity Level       -0.006308\n",
      "Sleep Duration (hrs/day)      -0.011794\n",
      "Screen Time (hrs/day)         -0.015396\n",
      "Name: Heart Attack Likelihood, dtype: float64\n"
     ]
    }
   ],
   "source": [
    "\n",
    "# Use Spearman correlation to account for ordinal variables\n",
    "heart_corr = df_analysis.corr(method='spearman')['Heart Attack Likelihood'].sort_values(ascending=False)\n",
    "\n",
    "# Display results\n",
    "print(\"Correlation with Heart Attack Likelihood (Sorted):\")\n",
    "print(heart_corr)"
   ]
  },
  {
   "cell_type": "markdown",
   "metadata": {},
   "source": [
    "## Step 7: Compute correlation with Cholesterol Levels"
   ]
  },
  {
   "cell_type": "code",
   "execution_count": 100,
   "metadata": {},
   "outputs": [
    {
     "name": "stdout",
     "output_type": "stream",
     "text": [
      "Correlation with Cholesterol Levels (Sorted):\n",
      "Cholesterol Levels (mg/dL)     1.000000\n",
      "Triglyceride Levels (mg/dL)    0.038856\n",
      "Screen Time (hrs/day)          0.027900\n",
      "Sleep Duration (hrs/day)       0.020477\n",
      "Physical Activity Level        0.012655\n",
      "Stress Level                   0.009382\n",
      "Heart Attack Likelihood        0.007090\n",
      "Systolic_BP                    0.001911\n",
      "Diet Type                     -0.001923\n",
      "Smoking Status                -0.004079\n",
      "Diastolic_BP                  -0.004163\n",
      "BMI (kg/m²)                   -0.005066\n",
      "Alcohol Consumption           -0.005198\n",
      "Name: Cholesterol Levels (mg/dL), dtype: float64\n"
     ]
    }
   ],
   "source": [
    "# Use Spearman correlation to examine relationships with cholesterol levels\n",
    "chol_corr = df_analysis.corr(method='spearman')['Cholesterol Levels (mg/dL)'].sort_values(ascending=False)\n",
    "\n",
    "# Display results\n",
    "print(\"Correlation with Cholesterol Levels (Sorted):\")\n",
    "print(chol_corr)"
   ]
  },
  {
   "cell_type": "markdown",
   "metadata": {
    "id": "rooyoZO_EGz1"
   },
   "source": [
    "## Query 1 Answer:\n",
    " \r",
    "✅ **Stress Level and Heart Attack Likelihood have a correlation of 0.0146**, showing a very weak connection.\n",
    "\r\n",
    "✅ **Triglyceride Levels and Cholesterol Levels have a correlation of 0.0389**, suggesting a slight relationship\r\n",
    "\r\n",
    "✅ **Screen Time and Cholesterol Levels have a correlation of 0.0279**, indicating a weak li  \r\n",
    "\r\n",
    "✅ **Diastolic Blood Pressure and Heart Attack Likelihood have a correlation of 0.0066**, which is a very weak connec.  \r\n",
    "\r\n",
    "🔹 Overall, the correlations are weak, meaning no strong relationship exists between cholesterol, heart attack risk, and other factors in this dataset.\r\n"
   ]
  },
  {
   "cell_type": "code",
   "execution_count": null,
   "metadata": {},
   "outputs": [],
   "source": []
  },
  {
   "cell_type": "markdown",
   "metadata": {
    "id": "yxEASAbUEce-"
   },
   "source": [
    "# 2. Visualize how profit is distributed across different categories using a pie chart, and explode the wedge with the highest percentage of profit across all categories.\n",
    "\n",
    "Data: https://drive.google.com/file/d/1-cCEA9WxaLbjx8MwQJUfrQOfznnE_r5k/view?usp=sharing"
   ]
  },
  {
   "cell_type": "code",
   "execution_count": null,
   "metadata": {
    "id": "7TcisLc9EK5S"
   },
   "outputs": [],
   "source": [
    "# \"C:\\Users\\Olajide FemVrich\\Desktop\\Just DATA\\PYTHON\\Data_Wrangling\\Task 2\\Superstore (1).csv\""
   ]
  },
  {
   "cell_type": "markdown",
   "metadata": {},
   "source": [
    "## Load the dataset"
   ]
  },
  {
   "cell_type": "code",
   "execution_count": 101,
   "metadata": {},
   "outputs": [
    {
     "data": {
      "text/html": [
       "<div>\n",
       "<style scoped>\n",
       "    .dataframe tbody tr th:only-of-type {\n",
       "        vertical-align: middle;\n",
       "    }\n",
       "\n",
       "    .dataframe tbody tr th {\n",
       "        vertical-align: top;\n",
       "    }\n",
       "\n",
       "    .dataframe thead th {\n",
       "        text-align: right;\n",
       "    }\n",
       "</style>\n",
       "<table border=\"1\" class=\"dataframe\">\n",
       "  <thead>\n",
       "    <tr style=\"text-align: right;\">\n",
       "      <th></th>\n",
       "      <th>Ship Mode</th>\n",
       "      <th>Segment</th>\n",
       "      <th>Country</th>\n",
       "      <th>City</th>\n",
       "      <th>State</th>\n",
       "      <th>Postal Code</th>\n",
       "      <th>Region</th>\n",
       "      <th>Category</th>\n",
       "      <th>Sub-Category</th>\n",
       "      <th>Sales</th>\n",
       "      <th>Quantity</th>\n",
       "      <th>Discount</th>\n",
       "      <th>Profit</th>\n",
       "    </tr>\n",
       "  </thead>\n",
       "  <tbody>\n",
       "    <tr>\n",
       "      <th>0</th>\n",
       "      <td>Second Class</td>\n",
       "      <td>Consumer</td>\n",
       "      <td>United States</td>\n",
       "      <td>Henderson</td>\n",
       "      <td>Kentucky</td>\n",
       "      <td>42420</td>\n",
       "      <td>South</td>\n",
       "      <td>Furniture</td>\n",
       "      <td>Bookcases</td>\n",
       "      <td>261.9600</td>\n",
       "      <td>2</td>\n",
       "      <td>0.00</td>\n",
       "      <td>41.9136</td>\n",
       "    </tr>\n",
       "    <tr>\n",
       "      <th>1</th>\n",
       "      <td>Second Class</td>\n",
       "      <td>Consumer</td>\n",
       "      <td>United States</td>\n",
       "      <td>Henderson</td>\n",
       "      <td>Kentucky</td>\n",
       "      <td>42420</td>\n",
       "      <td>South</td>\n",
       "      <td>Furniture</td>\n",
       "      <td>Chairs</td>\n",
       "      <td>731.9400</td>\n",
       "      <td>3</td>\n",
       "      <td>0.00</td>\n",
       "      <td>219.5820</td>\n",
       "    </tr>\n",
       "    <tr>\n",
       "      <th>2</th>\n",
       "      <td>Second Class</td>\n",
       "      <td>Corporate</td>\n",
       "      <td>United States</td>\n",
       "      <td>Los Angeles</td>\n",
       "      <td>California</td>\n",
       "      <td>90036</td>\n",
       "      <td>West</td>\n",
       "      <td>Office Supplies</td>\n",
       "      <td>Labels</td>\n",
       "      <td>14.6200</td>\n",
       "      <td>2</td>\n",
       "      <td>0.00</td>\n",
       "      <td>6.8714</td>\n",
       "    </tr>\n",
       "    <tr>\n",
       "      <th>3</th>\n",
       "      <td>Standard Class</td>\n",
       "      <td>Consumer</td>\n",
       "      <td>United States</td>\n",
       "      <td>Fort Lauderdale</td>\n",
       "      <td>Florida</td>\n",
       "      <td>33311</td>\n",
       "      <td>South</td>\n",
       "      <td>Furniture</td>\n",
       "      <td>Tables</td>\n",
       "      <td>957.5775</td>\n",
       "      <td>5</td>\n",
       "      <td>0.45</td>\n",
       "      <td>-383.0310</td>\n",
       "    </tr>\n",
       "    <tr>\n",
       "      <th>4</th>\n",
       "      <td>Standard Class</td>\n",
       "      <td>Consumer</td>\n",
       "      <td>United States</td>\n",
       "      <td>Fort Lauderdale</td>\n",
       "      <td>Florida</td>\n",
       "      <td>33311</td>\n",
       "      <td>South</td>\n",
       "      <td>Office Supplies</td>\n",
       "      <td>Storage</td>\n",
       "      <td>22.3680</td>\n",
       "      <td>2</td>\n",
       "      <td>0.20</td>\n",
       "      <td>2.5164</td>\n",
       "    </tr>\n",
       "  </tbody>\n",
       "</table>\n",
       "</div>"
      ],
      "text/plain": [
       "        Ship Mode    Segment        Country             City       State  \\\n",
       "0    Second Class   Consumer  United States        Henderson    Kentucky   \n",
       "1    Second Class   Consumer  United States        Henderson    Kentucky   \n",
       "2    Second Class  Corporate  United States      Los Angeles  California   \n",
       "3  Standard Class   Consumer  United States  Fort Lauderdale     Florida   \n",
       "4  Standard Class   Consumer  United States  Fort Lauderdale     Florida   \n",
       "\n",
       "   Postal Code Region         Category Sub-Category     Sales  Quantity  \\\n",
       "0        42420  South        Furniture    Bookcases  261.9600         2   \n",
       "1        42420  South        Furniture       Chairs  731.9400         3   \n",
       "2        90036   West  Office Supplies       Labels   14.6200         2   \n",
       "3        33311  South        Furniture       Tables  957.5775         5   \n",
       "4        33311  South  Office Supplies      Storage   22.3680         2   \n",
       "\n",
       "   Discount    Profit  \n",
       "0      0.00   41.9136  \n",
       "1      0.00  219.5820  \n",
       "2      0.00    6.8714  \n",
       "3      0.45 -383.0310  \n",
       "4      0.20    2.5164  "
      ]
     },
     "execution_count": 101,
     "metadata": {},
     "output_type": "execute_result"
    }
   ],
   "source": [
    "# Import necessary libraries  \n",
    "import pandas as pd\n",
    "import matplotlib.pyplot as plt  \n",
    "\n",
    "# Load the dataset  \n",
    "file_path_2 = r\"C:\\Users\\Olajide FemVrich\\Desktop\\Just DATA\\PYTHON\\Data_Wrangling\\Task 2\\Superstore (1).csv\"\n",
    "df_2 = pd.read_csv(file_path_2)\n",
    "\n",
    "# Display first five rows  \n",
    "df_2.head()"
   ]
  },
  {
   "cell_type": "markdown",
   "metadata": {},
   "source": [
    "## STEP 1: Group Profit by Category"
   ]
  },
  {
   "cell_type": "code",
   "execution_count": 102,
   "metadata": {},
   "outputs": [
    {
     "name": "stdout",
     "output_type": "stream",
     "text": [
      "Category\n",
      "Furniture           18451.2728\n",
      "Office Supplies    122490.8008\n",
      "Technology         145451.9773\n",
      "Name: Profit, dtype: float64\n"
     ]
    }
   ],
   "source": [
    "profit_by_category = df_2.groupby(\"Category\")[\"Profit\"].sum()  # Aggregates total profit per category  \n",
    "print(profit_by_category)"
   ]
  },
  {
   "cell_type": "markdown",
   "metadata": {},
   "source": [
    "## STEP 2: Prepare Data for Pie Chart "
   ]
  },
  {
   "cell_type": "code",
   "execution_count": 123,
   "metadata": {},
   "outputs": [
    {
     "name": "stdout",
     "output_type": "stream",
     "text": [
      "Maximum Index Position: 2\n",
      "Maximum Category: Technology\n",
      "Maximum Value: $145,452\n"
     ]
    }
   ],
   "source": [
    " \n",
    "labels = profit_by_category.index  # Extract category names  \n",
    "sizes = profit_by_category.values  # Extract corresponding profit values  \n",
    "explode = [0] * len(labels)  # Initialize list of the label as zero where len() of the label help populate it   \n",
    "shadow={'ox': -0.03, 'edgecolor': 'none', 'shade': 0.6}\n",
    "\n",
    "# Identify the category, size and the highest profit  \n",
    "max_index = sizes.argmax()  # Integer position (e.g., 2)\n",
    "max_category = labels[max_index]  # Name (e.g., 'Furniture')\n",
    "max_value = sizes[max_index]  # Value (e.g., 75000)\n",
    "\n",
    "# Identify the category with the highest profit  \n",
    "max_index = sizes.argmax()  # Finds index of maximum profit  \n",
    "explode[max_index] = 0.1  # Offset the wedge with the highest profit  \n",
    " \n",
    "print(f\"Maximum Index Position: {max_index}\")\n",
    "print(f\"Maximum Category: {max_category}\")\n",
    "print(f\"Maximum Value: ${max_value:,.0f}\")"
   ]
  },
  {
   "cell_type": "markdown",
   "metadata": {},
   "source": [
    "## STEP 3: Create Pie Chart following (API Structure) for Query 2 Answer:"
   ]
  },
  {
   "cell_type": "code",
   "execution_count": 124,
   "metadata": {},
   "outputs": [
    {
     "data": {
      "image/png": "[encoded data removed]",
      "text/plain": [
       "<Figure size 800x800 with 1 Axes>"
      ]
     },
     "metadata": {},
     "output_type": "display_data"
    }
   ],
   "source": [
    "\n",
    "plt.figure(figsize=(8, 8))  # Set figure size  \n",
    "\n",
    "plt.pie(\n",
    "    sizes,                      # List of values representing the wedges' sizes  \n",
    "    labels=labels,              # Labels corresponding to each category  \n",
    "    explode=explode,            # Determines which slice to offset (highlight)  \n",
    "    autopct='%1.1f%%',          # Displays percentage values inside slices  \n",
    "    shadow=shadow,              # Adds a shadow effect  \n",
    "    startangle=90,              # Rotates the first slice to 90°  \n",
    "    radius = 0.5                # Controlling the size\n",
    ")\n",
    "\n",
    "plt.title('Profit Distribution by Category', fontsize=16) \n",
    "plt.axis('equal')  # Ensures the pie chart remains circular  \n",
    "plt.show() \n"
   ]
  },
  {
   "cell_type": "markdown",
   "metadata": {
    "id": "e7o8eV4rEswT"
   },
   "source": [
    "Query 2 Answer:"
   ]
  },
  {
   "cell_type": "markdown",
   "metadata": {
    "id": "E6ir_ADaEu0Z"
   },
   "source": [
    "# 3. Visualize the global sales trends of Nintendo games over time using a line plot. How have Nintendo's sales figures evolved from the 1980s to the 2000s?\n",
    "\n",
    "Data: https://drive.google.com/file/d/1IwbdhYcqMEf4zZH0Hfgbev9pCrpvJiGk/view?usp=sharing"
   ]
  },
  {
   "cell_type": "code",
   "execution_count": null,
   "metadata": {
    "id": "8ubf9mn0FljX"
   },
   "outputs": [],
   "source": [
    "# \"C:\\Users\\Olajide FemVrich\\Desktop\\Just DATA\\PYTHON\\Data_Wrangling\\Task 2\\vgsales_no_headers.csv\""
   ]
  },
  {
   "cell_type": "markdown",
   "metadata": {},
   "source": [
    "## STEP 1: Define Column Headers and load the data"
   ]
  },
  {
   "cell_type": "code",
   "execution_count": 158,
   "metadata": {},
   "outputs": [
    {
     "name": "stdout",
     "output_type": "stream",
     "text": [
      "   Rank                      Name Platform  Year         Genre Publisher  \\\n",
      "0     1                Wii Sports      Wii  2006        Sports  Nintendo   \n",
      "1     2         Super Mario Bros.      NES  1985      Platform  Nintendo   \n",
      "2     3            Mario Kart Wii      Wii  2008        Racing  Nintendo   \n",
      "3     4         Wii Sports Resort      Wii  2009        Sports  Nintendo   \n",
      "4     5  Pokemon Red/Pokemon Blue       GB  1996  Role-Playing  Nintendo   \n",
      "\n",
      "   NA_Sales  EU_Sales  JP_Sales  Other_Sales  Global_Sales  \n",
      "0     41.49     29.02      3.77         8.46         82.74  \n",
      "1     29.08      3.58      6.81         0.77         40.24  \n",
      "2     15.85     12.88      3.79         3.31         35.82  \n",
      "3     15.75     11.01      3.28         2.96         33.00  \n",
      "4     11.27      8.89     10.22         1.00         31.37  \n"
     ]
    }
   ],
   "source": [
    " \n",
    "headers = [\n",
    "    'Rank',          # Rank of the video game  \n",
    "    'Name',          # Name of the video game  \n",
    "    'Platform',      # Gaming platform  \n",
    "    'Year',          # Release year  \n",
    "    'Genre',         # Type of game (e.g., sport, Rasing)  \n",
    "    'Publisher',     # Company that published the game  \n",
    "    'NA_Sales',      # Sales in North America (millions)  \n",
    "    'EU_Sales',      # Sales in Europe (millions)  \n",
    "    'JP_Sales',      # Sales in Japan (millions)  \n",
    "    'Other_Sales',   # Sales in other regions (millions)  \n",
    "    'Global_Sales'   # Total worldwide sales (millions)  \n",
    "]\n",
    "\n",
    "file_path_3 = r\"C:\\Users\\Olajide FemVrich\\Desktop\\Just DATA\\PYTHON\\Data_Wrangling\\Task 2\\vgsales_no_headers.csv\"\n",
    "df_3 = pd.read_csv(file_path_3, header=None, names=headers)  \n",
    "\n",
    "df_3['Year'].fillna(0, inplace=True)  # Replace NaNs (if any) with 0\n",
    "df_3['Year'] = df_3['Year'].astype(int)  # Convert to integer\n",
    "\n",
    "print(df_3.head())  "
   ]
  },
  {
   "cell_type": "markdown",
   "metadata": {},
   "source": [
    "## STEP 2: Filter Data for Nintendo Games  "
   ]
  },
  {
   "cell_type": "code",
   "execution_count": 159,
   "metadata": {},
   "outputs": [
    {
     "name": "stdout",
     "output_type": "stream",
     "text": [
      "   Year  Global_Sales\n",
      "0     0          2.13\n",
      "1  1983         10.96\n",
      "2  1984         45.56\n"
     ]
    }
   ],
   "source": [
    "\n",
    "nintendo_games = df_3[df_3['Publisher'] == 'Nintendo']  #Filters the dataset to include only games published by Nintendo \n",
    "  \n",
    "yearly_sales = nintendo_games.groupby('Year')['Global_Sales'].sum().reset_index()  # nintendo_games Group by Year and Sum Global Sales \n",
    "\n",
    "print((yearly_sales).head(3))"
   ]
  },
  {
   "cell_type": "markdown",
   "metadata": {},
   "source": [
    "## STEP 3: Set Plot Styling and Create Line Plot "
   ]
  },
  {
   "cell_type": "code",
   "execution_count": 176,
   "metadata": {},
   "outputs": [
    {
     "data": {
      "image/png": "[encoded data removed]",
      "text/plain": [
       "<Figure size 1200x600 with 1 Axes>"
      ]
     },
     "metadata": {},
     "output_type": "display_data"
    }
   ],
   "source": [
    " \n",
    "plt.figure(figsize=(12, 6))  # Set figure size  \n",
    "\n",
    "plt.plot(\n",
    "    yearly_sales['Year'],      # X-axis: Year  \n",
    "    yearly_sales['Global_Sales'],  # Y-axis: Total Global Sales  \n",
    "    marker='o',        # Circular markers at data points  \n",
    "    linewidth=2,       # Line thickness  \n",
    "    color='red',       # Line color  \n",
    "    markersize=8       # Marker size  \n",
    ")\n",
    " \n",
    "plt.title(\"Nintendo's Global Sales Trend (1980s-2010s)\", fontsize=16, pad=20)  # Add title  \n",
    "plt.xlabel('Year', fontsize=12)  # X-axis label  \n",
    "plt.ylabel('Global Sales (in millions)', fontsize=12)  # Y-axis label  \n",
    "plt.xticks(rotation=45)  # Rotate x-axis labels  \n",
    "plt.xlim(1980, 2020)  # Focus on relevant time period  \n",
    " \n",
    "# Annotate the Peak Sales Year   \n",
    "\n",
    "peak_year = yearly_sales.loc[yearly_sales['Global_Sales'].idxmax()]\n",
    "lowest_year = yearly_sales.loc[yearly_sales['Global_Sales'].idxmin()]\n",
    "\n",
    "# `.idxmax()`: Finds the index of the max global sales and a reverse case with the 'idxmin()' \n",
    "# `yearly_sales.loc[]`: Selects the row of the peak sales year and also to select that for the lowest\n",
    "\n",
    "plt.annotate(\n",
    "    f\"Peak: {int(peak_year['Year'])}\\n{peak_year['Global_Sales']:.2f}M\",  # Annotation text  \n",
    "    xy=(peak_year['Year'], peak_year['Global_Sales']),  # Data point to annotate  \n",
    "    xytext=(15, 0.8), textcoords='offset points',  # Offset text position  \n",
    "    arrowprops=dict(facecolor='black', shrink=0.09)  # Arrow pointing to peak sales  \n",
    ")\n",
    "\n",
    "\n",
    "plt.grid(False)  # Turns off the grid lines\n",
    "plt.show()\n"
   ]
  },
  {
   "cell_type": "markdown",
   "metadata": {
    "id": "ARIEF3T2FnDV"
   },
   "source": [
    "### Query 3 Answer: How have Nintendo's sales figures evolved from the 1980s to the 2000s?\n",
    "\n",
    "\r\n",
    "From the **1980s to the early 2000s**, Nintendo’s global sales showed **fluctuations**, with multiple peaks occurring around **50 million to 70 million** in total salas.  \r\n",
    "\r\n",
    "However, in **2006**, Nintendo experienced an **unprecedented sales boom**, reaching its highest recorded peak of **205.61 million uniii**.  \r\n",
    "\r\n",
    "Following this peak, sales saw a **significant decline**, with a steady drop continuing through **rmance.  \r\n"
   ]
  },
  {
   "cell_type": "code",
   "execution_count": null,
   "metadata": {},
   "outputs": [],
   "source": []
  },
  {
   "cell_type": "markdown",
   "metadata": {
    "id": "iX8KpQizF5_8"
   },
   "source": [
    "# 4. In Saudi Arabia, the 5-day workweek starts on Sunday. Analyze the impact of the weekend and weekday quote dates on the quote price.\n",
    "\n",
    "Data: https://drive.google.com/file/d/1vROMYOn9OUrIS7ChIIzkGpjeEdxm5Pe1/view?usp=sharing"
   ]
  },
  {
   "cell_type": "code",
   "execution_count": null,
   "metadata": {
    "id": "4jDT-kIWGdeZ"
   },
   "outputs": [],
   "source": [
    "# \"C:\\Users\\Olajide FemVrich\\Desktop\\Just DATA\\PYTHON\\Data_Wrangling\\Task 2\\luxury_goods_selling_transaction - quote_sell_dataset - luxury_goods_selling_transaction - quote_sell_dataset.csv\""
   ]
  },
  {
   "cell_type": "markdown",
   "metadata": {},
   "source": [
    "## STEP 1: load the data"
   ]
  },
  {
   "cell_type": "code",
   "execution_count": 177,
   "metadata": {},
   "outputs": [
    {
     "name": "stdout",
     "output_type": "stream",
     "text": [
      "   Quote ID                             Product Name  Purchased Year  \\\n",
      "0   2842302      ALEXANDER WANG Rhinestone Mesh Mini            2019   \n",
      "1   2455752  BALENCIAGA Agneau Classic Hardware City            2014   \n",
      "2   2455734     BALENCIAGA Chevre Gold Metallic Edge            2013   \n",
      "3     18640               Baobao Issey Miyake clutch            2020   \n",
      "4     18957                 Burberry Nova check tote            2016   \n",
      "\n",
      "     Luxury Brand Selling Platform  Quote Date  Quote Price  Sold Price  \\\n",
      "0  Alexander Wang     Fashionphile  2022-11-03        300.0       300.0   \n",
      "1      Balenciaga     Fashionphile  2022-04-27        450.0       450.0   \n",
      "2      Balenciaga     Fashionphile  2022-04-26        950.0       950.0   \n",
      "3          Baobao       CoutureUSA  2022-11-16        142.5         0.0   \n",
      "4        Burberry       CoutureUSA  2022-12-05        290.0         0.0   \n",
      "\n",
      "  Category  Condition           Status Payment Method  \n",
      "0  handbag  Pre-owned        Completed            ACH  \n",
      "1  handbag  Pre-owned        Completed         Paypal  \n",
      "2  handbag  Pre-owned        Completed         Paypal  \n",
      "3  handbag        New  Seller Declined            NaN  \n",
      "4  handbag  Pre-owned  Seller Declined            NaN  \n"
     ]
    }
   ],
   "source": [
    "\n",
    "import pandas as pd\n",
    "from datetime import datetime\n",
    "\n",
    "# Load dataset\n",
    "file_path_4 = r\"C:\\Users\\Olajide FemVrich\\Desktop\\Just DATA\\PYTHON\\Data_Wrangling\\Task 2\\luxury_goods_selling_transaction - quote_sell_dataset - luxury_goods_selling_transaction - quote_sell_dataset.csv\"\n",
    "df_4 = pd.read_csv(file_path_4)\n",
    "\n",
    "# Display first few rows\n",
    "print(df_4.head())"
   ]
  },
  {
   "cell_type": "markdown",
   "metadata": {},
   "source": [
    "## Step 2: Convert, Extract, Classify 'Quote Date' to their required format"
   ]
  },
  {
   "cell_type": "code",
   "execution_count": 192,
   "metadata": {},
   "outputs": [
    {
     "name": "stdout",
     "output_type": "stream",
     "text": [
      "    Day of Week   Day Name Week Type\n",
      "0             4   Thursday   Weekday\n",
      "1             3  Wednesday   Weekday\n",
      "2             2    Tuesday   Weekday\n",
      "3             3  Wednesday   Weekday\n",
      "4             1     Monday   Weekday\n",
      "5             1     Monday   Weekday\n",
      "6             3  Wednesday   Weekday\n",
      "7             6   Saturday   Weekend\n",
      "8             3  Wednesday   Weekday\n",
      "9             2    Tuesday   Weekday\n",
      "10            2    Tuesday   Weekday\n",
      "11            3  Wednesday   Weekday\n",
      "12            3  Wednesday   Weekday\n",
      "13            3  Wednesday   Weekday\n",
      "14            3  Wednesday   Weekday\n",
      "15            2    Tuesday   Weekday\n",
      "16            1     Monday   Weekday\n",
      "17            6   Saturday   Weekend\n",
      "18            2    Tuesday   Weekday\n",
      "19            2    Tuesday   Weekday\n",
      "20            2    Tuesday   Weekday\n",
      "21            2    Tuesday   Weekday\n",
      "22            1     Monday   Weekday\n",
      "23            5     Friday   Weekend\n",
      "24            4   Thursday   Weekday\n"
     ]
    }
   ],
   "source": [
    "# Convert 'Quote Date' to datetime format\n",
    "df_4['Quote Date'] = pd.to_datetime(df_4['Quote Date'])\n",
    "\n",
    "# Adjust day of the week to start from Sunday (Saudi workweek) normal structure(Sunday = 0, Monday = 1, ..., Saturday = 6)\n",
    "df_4['Day of Week'] = (df_4['Quote Date'].dt.dayofweek + 1) % 7  # Shift so Sunday=0\n",
    "\n",
    "# Extract day name from the 'Quote Date' column\n",
    "df_4['Day Name'] = df_4['Quote Date'].dt.day_name()\n",
    "\n",
    "# Classify weekdays and weekends based on the Saudi workweek\n",
    "df_4['Week Type'] = df_4['Day of Week'].apply(\n",
    "    lambda x: 'Weekend' if x >= 5 else 'Weekday'  # i.e Friday (5) & Saturday (6) = Weekend\n",
    ")\n",
    "print(df_4[['Day of Week', 'Day Name', 'Week Type']].head(25))\n"
   ]
  },
  {
   "cell_type": "markdown",
   "metadata": {},
   "source": [
    "###  Analysis by Week Type "
   ]
  },
  {
   "cell_type": "code",
   "execution_count": 194,
   "metadata": {},
   "outputs": [
    {
     "name": "stdout",
     "output_type": "stream",
     "text": [
      "Price Statistics by Week Type:\n",
      "                 mean  median          std  count\n",
      "Week Type                                        \n",
      "Weekday    841.973214  440.00  1150.833723     56\n",
      "Weekend    842.900000  549.75  1043.316901     10\n"
     ]
    }
   ],
   "source": [
    "\n",
    "price_stats = df_4.groupby('Week Type')['Quote Price'].agg(['mean', 'median', 'std', 'count'])\n",
    "\n",
    "# summary statistics for weekdays vs. weekends\n",
    "print(\"Price Statistics by Week Type:\")\n",
    "print(price_stats)"
   ]
  },
  {
   "cell_type": "markdown",
   "metadata": {},
   "source": [
    "### Day-by-Day Analysis "
   ]
  },
  {
   "cell_type": "code",
   "execution_count": 195,
   "metadata": {},
   "outputs": [
    {
     "name": "stdout",
     "output_type": "stream",
     "text": [
      "\n",
      "Daily Price Statistics:\n",
      "                  mean  median  count\n",
      "Day Name                             \n",
      "Sunday             NaN     NaN    NaN\n",
      "Monday     1021.735294  420.00   17.0\n",
      "Tuesday     879.444444  445.00   18.0\n",
      "Wednesday   713.400000  450.00   15.0\n",
      "Thursday    541.666667  300.00    6.0\n",
      "Friday     1210.000000  705.00    6.0\n",
      "Saturday    292.250000  267.25    4.0\n"
     ]
    }
   ],
   "source": [
    "# Define the correct order for days of the week\n",
    "day_order = ['Sunday', 'Monday', 'Tuesday', 'Wednesday', 'Thursday', 'Friday', 'Saturday']\n",
    "\n",
    "# Compute daily statistics and reorder days\n",
    "daily_stats = df_4.groupby('Day Name')['Quote Price'].agg(['mean', 'median', 'count']).reindex(day_order)\n",
    "\n",
    "# Print daily quote price statistics\n",
    "print(\"\\nDaily Price Statistics:\")\n",
    "print(daily_stats)"
   ]
  },
  {
   "cell_type": "code",
   "execution_count": 198,
   "metadata": {},
   "outputs": [
    {
     "name": "stdout",
     "output_type": "stream",
     "text": [
      "Number of transactions recorded on Sunday: 0\n"
     ]
    }
   ],
   "source": [
    "# Count occurrences of Sunday in the dataset\n",
    "sunday_count = (df_4['Day Name'] == 'Sunday').sum()\n",
    "\n",
    "# Print the count\n",
    "print(f\"Number of transactions recorded on Sunday: {sunday_count}\")\n"
   ]
  },
  {
   "cell_type": "markdown",
   "metadata": {
    "id": "uzRZ4LgdGYfu"
   },
   "source": [
    "## Query 4 Answer: ** Impact of Weekday and Weekend on Quote Prices **\n",
    "\n",
    "### **1. Weekday vs. Weekend Price Impact**\r\n",
    "- *The *Mean quote prices are nearly identical** on weekdays £841.97) and weekends £842.90), suggesting **no significant pricing difference**.\r\n",
    "- **Fewer transactions occur on weekends (10) compared to weekdays (56)**, indicating lower market activity.\r\n",
    "\r\n",
    "### **2. Daily Breakdown Analysis**\r\n",
    "- **Friday records the highest mean prce (£1,210.00)** and a median of (£705.00), suggesting **high-value quotes before the weekend**.\r\n",
    "- **Saturday has the lowest mean pice (£292.25) and the fewest transactions (4)**, indicating **a drop in market activity**.\r\n",
    "- **Monday sees the highest number of transactions (17)**, implying **strong engagement at the start of the workweekend.\r\n",
    "- **Sunday has no recorded transactions**, meaning it **may not be an active trading day** for quotes."
   ]
  },
  {
   "cell_type": "code",
   "execution_count": null,
   "metadata": {},
   "outputs": [],
   "source": []
  }
 ],
 "metadata": {
  "colab": {
   "authorship_tag": "ABX9TyPGV/nvcrAAQizwnPzvmPZr",
   "provenance": []
  },
  "kernelspec": {
   "display_name": "Python 3 (ipykernel)",
   "language": "python",
   "name": "python3"
  },
  "language_info": {
   "codemirror_mode": {
    "name": "ipython",
    "version": 3
   },
   "file_extension": ".py",
   "mimetype": "text/x-python",
   "name": "python",
   "nbconvert_exporter": "python",
   "pygments_lexer": "ipython3",
   "version": "3.12.0"
  }
 },
 "nbformat": 4,
 "nbformat_minor": 4
}
