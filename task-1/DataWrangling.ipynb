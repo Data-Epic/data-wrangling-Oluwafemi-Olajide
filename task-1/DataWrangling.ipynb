{
 "cells": [
  {
   "cell_type": "markdown",
   "id": "b6ce811c-6235-4dba-bcdf-643ee5c38305",
   "metadata": {},
   "source": [
    "## Step 1: Loading the Dataset"
   ]
  },
  {
   "cell_type": "code",
   "execution_count": 15,
   "id": "3840da4c-def6-4058-ad32-2867c9c6956f",
   "metadata": {},
   "outputs": [
    {
     "name": "stdout",
     "output_type": "stream",
     "text": [
      "   Customer ID                Country  Total Purchases  \\\n",
      "0         1015  Palestinian Territory               12   \n",
      "1         1029                  China               47   \n",
      "2         1025                Nigeria               10   \n",
      "3         1006         United Kingdom               48   \n",
      "4         1024            Philippines               16   \n",
      "\n",
      "                    Sign-up Date  \n",
      "0  2022-04-03 21:42:29.000000000  \n",
      "1  2016-01-08 03:13:12.000000000  \n",
      "2  2023-02-20 19:06:14.000000000  \n",
      "3  2022-05-26 12:46:35.000000000  \n",
      "4  2016-12-13 03:44:04.000000000  \n",
      "\n",
      "Dataset loaded with 1000 rows.\n"
     ]
    }
   ],
   "source": [
    "import pandas as pd\n",
    "\n",
    "# Define file path\n",
    "file_path = r\"C:\\Users\\Olajide FemVrich\\Desktop\\Just DATA\\PYTHON\\Data_Wrangling\\Customer_Seg_Analysis\\MOCK_DATA (3).csv\"\n",
    "\n",
    "# Load the dataset\n",
    "df = pd.read_csv(file_path)\n",
    "\n",
    "# Display info\n",
    "print(df.head())\n",
    "print(f\"\\nDataset loaded with {len(df)} rows.\")"
   ]
  },
  {
   "cell_type": "code",
   "execution_count": 16,
   "id": "7a48df22-af1a-43fd-9a02-3001ae4c2234",
   "metadata": {},
   "outputs": [
    {
     "name": "stdout",
     "output_type": "stream",
     "text": [
      "   Customer ID                Country  Total Purchases  \\\n",
      "0         1015  Palestinian Territory               12   \n",
      "1         1029                  China               47   \n",
      "2         1025                Nigeria               10   \n",
      "3         1006         United Kingdom               48   \n",
      "4         1024            Philippines               16   \n",
      "\n",
      "                    Sign-up Date  \n",
      "0  2022-04-03 21:42:29.000000000  \n",
      "1  2016-01-08 03:13:12.000000000  \n",
      "2  2023-02-20 19:06:14.000000000  \n",
      "3  2022-05-26 12:46:35.000000000  \n",
      "4  2016-12-13 03:44:04.000000000  \n",
      "\n",
      "Dataset loaded with 750 rows.\n"
     ]
    }
   ],
   "source": [
    "# Load the dataset, keeping only the first 75% of rows\n",
    "df = df.iloc[:int(len(df) * 0.75)]  \n",
    "\n",
    "# Display info\n",
    "print(df.head())\n",
    "print(f\"\\nDataset loaded with {len(df)} rows.\")\n"
   ]
  },
  {
   "cell_type": "markdown",
   "id": "374bd248-52c3-4065-9139-f6bf1d9be528",
   "metadata": {},
   "source": [
    "## Step 2: Data Cleaning"
   ]
  },
  {
   "cell_type": "code",
   "execution_count": 17,
   "id": "defa5f82-74e6-40c8-8cc5-7886d0a3c870",
   "metadata": {},
   "outputs": [
    {
     "name": "stdout",
     "output_type": "stream",
     "text": [
      "   Customer ID                Country  Total Purchases        Sign-up Date\n",
      "0         1015  Palestinian Territory               12 2022-04-03 21:42:29\n",
      "1         1029                  China               47 2016-01-08 03:13:12\n",
      "2         1025                Nigeria               10 2023-02-20 19:06:14\n",
      "3         1006         United Kingdom               48 2022-05-26 12:46:35\n",
      "4         1024            Philippines               16 2016-12-13 03:44:04\n",
      "\n",
      "Dataset after cleaning: 748 rows.\n"
     ]
    }
   ],
   "source": [
    "import numpy as np\n",
    "\n",
    "# 1 Remove consecutive duplicate rows\n",
    "df = df.drop_duplicates(keep='first')\n",
    "\n",
    "# 2 Convert 'Sign-up Date' to datetime format\n",
    "df['Sign-up Date'] = pd.to_datetime(df['Sign-up Date'], errors='coerce')\n",
    "\n",
    "# Replace all dates from the year 2020 with NaN\n",
    "df.loc[df['Sign-up Date'].dt.year == 2020, 'Sign-up Date'] = np.nan\n",
    "\n",
    "# 3 Drop rows where 'Total Purchases' is < 5 but only if the customer is from Canada\n",
    "df = df[~((df['Total Purchases'] < 5) & (df['Country'] == 'Canada'))]\n",
    "\n",
    "# Display cleaned dataset info\n",
    "print(df.head())\n",
    "print(f\"\\nDataset after cleaning: {len(df)} rows.\")\n"
   ]
  },
  {
   "cell_type": "markdown",
   "id": "4f765540-94e5-42dc-ae15-dd1f2fc24743",
   "metadata": {},
   "source": [
    "## Step 3: Feature Engineering"
   ]
  },
  {
   "cell_type": "code",
   "execution_count": 18,
   "id": "0fdd6863-f327-4cc1-a9af-cae8d7c6faa5",
   "metadata": {},
   "outputs": [
    {
     "name": "stdout",
     "output_type": "stream",
     "text": [
      "   Customer ID                Country  Total Purchases        Sign-up Date  \\\n",
      "0         1015  Palestinian Territory               12 2022-04-03 21:42:29   \n",
      "1         1029                  China               47 2016-01-08 03:13:12   \n",
      "2         1025                Nigeria               10 2023-02-20 19:06:14   \n",
      "3         1006         United Kingdom               48 2022-05-26 12:46:35   \n",
      "4         1024            Philippines               16 2016-12-13 03:44:04   \n",
      "\n",
      "   Membership Years  Loyalty Score  \n",
      "0               3.0              2  \n",
      "1               9.0              3  \n",
      "2               2.0              2  \n",
      "3               3.0              3  \n",
      "4               9.0              2  \n"
     ]
    }
   ],
   "source": [
    "from datetime import datetime\n",
    "\n",
    "# 1 Calculate how many years the customer has been a member\n",
    "current_year = datetime.today().year\n",
    "df['Membership Years'] = current_year - df['Sign-up Date'].dt.year\n",
    "\n",
    "# 2 Create the 'Loyalty Score' column based on the conditions using the function 'assign_loyalty_score()'\n",
    "def assign_loyalty_score(row):\n",
    "    if row['Total Purchases'] > 20:\n",
    "        return 3\n",
    "    elif 10 <= row['Total Purchases'] <= 20:\n",
    "        return 2\n",
    "    elif row['Total Purchases'] < 10:\n",
    "        if row['Membership Years'] > 3:  # If they’ve been a member for more than 3 years\n",
    "            return 2\n",
    "        return 1\n",
    "\n",
    "df['Loyalty Score'] = df.apply(assign_loyalty_score, axis=1)\n",
    "\n",
    "# Display updated dataset\n",
    "print(df.head())"
   ]
  },
  {
   "cell_type": "markdown",
   "id": "53a01198-1922-452e-b77c-f73f7f5c3869",
   "metadata": {},
   "source": [
    "## Step 4: Data Aggregation & Filtering"
   ]
  },
  {
   "cell_type": "code",
   "execution_count": 28,
   "id": "78ac7f6f-1f72-4a5e-9e2e-3956b29e225b",
   "metadata": {},
   "outputs": [
    {
     "name": "stdout",
     "output_type": "stream",
     "text": [
      "       Country  Avg Total Purchases  Max Total Purchases  \\\n",
      "0  Afghanistan             8.000000                   20   \n",
      "1      Albania            20.500000                   38   \n",
      "2      Andorra            11.000000                   11   \n",
      "3       Angola            15.000000                   29   \n",
      "4    Argentina            24.692308                   45   \n",
      "\n",
      "   Most Common Loyalty Score  \n",
      "0                          2  \n",
      "1                          2  \n",
      "2                          2  \n",
      "3                          2  \n",
      "4                          3  \n",
      "\n",
      "Data aggregation completed\n"
     ]
    }
   ],
   "source": [
    "# 1 Group by 'Country' and calculate average & max 'Total Purchases'\n",
    "purchase_stats = df.groupby('Country')['Total Purchases'].agg(['mean', 'max']).reset_index()\n",
    "\n",
    "# 2 Calculate the most common 'Loyalty Score' per country (excluding Mexico)\n",
    "\n",
    "loyalty_mode = df[df['Country'] != 'Mexico'].groupby('Country')['Loyalty Score'].agg(lambda x: x.mode()[0]).reset_index()\n",
    "\n",
    "# 3 Merge both aggregations\n",
    "country_summary = purchase_stats.merge(loyalty_mode, on='Country')\n",
    "\n",
    "# Rename columns for clarity\n",
    "country_summary.columns = ['Country', 'Avg Total Purchases', 'Max Total Purchases', 'Most Common Loyalty Score']\n",
    "\n",
    "# Display the summary\n",
    "print(country_summary.head())\n",
    "print(\"\\nData aggregation completed\")"
   ]
  },
  {
   "cell_type": "markdown",
   "id": "447fcc38-9c3c-42bd-a009-bdc47e757f1d",
   "metadata": {},
   "source": [
    "# Descriptive Analysis"
   ]
  },
  {
   "cell_type": "markdown",
   "id": "2b60e2cf-7331-419d-bbd1-49a3befcf763",
   "metadata": {},
   "source": [
    "## 1. Identifying the Most Loyal Customers"
   ]
  },
  {
   "cell_type": "code",
   "execution_count": 20,
   "id": "3bd4e1cc-48d1-42ea-850b-c2df64a98b48",
   "metadata": {},
   "outputs": [
    {
     "name": "stdout",
     "output_type": "stream",
     "text": [
      "Total number of highly loyal customers: 420\n",
      "\n",
      "Loyal Customer Distribution by Country:\n",
      "\n",
      "Country\n",
      "China          95\n",
      "Indonesia      50\n",
      "Russia         26\n",
      "Brazil         20\n",
      "Philippines    18\n",
      "               ..\n",
      "Uzbekistan      1\n",
      "Hungary         1\n",
      "Ethiopia        1\n",
      "Mauritius       1\n",
      "Angola          1\n",
      "Name: count, Length: 87, dtype: int64\n"
     ]
    }
   ],
   "source": [
    "# Find customers with the highest loyalty score\n",
    "most_loyal_customers = df[df['Loyalty Score'] == 3]\n",
    "\n",
    "# Count most loyal customers per country\n",
    "loyalty_distribution = most_loyal_customers['Country'].value_counts()\n",
    "\n",
    "# Display results\n",
    "print(f\"Total number of highly loyal customers: {len(most_loyal_customers)}\\n\")\n",
    "print(\"Loyal Customer Distribution by Country:\\n\")\n",
    "print(loyalty_distribution)\n"
   ]
  },
  {
   "cell_type": "markdown",
   "id": "9124f38d-1f05-4106-a38e-20017d7202e5",
   "metadata": {},
   "source": [
    "## 2. Descriptive Statistics on Customer Purchases"
   ]
  },
  {
   "cell_type": "code",
   "execution_count": 21,
   "id": "1a9162a2-228a-420a-8b7e-d069869842b1",
   "metadata": {},
   "outputs": [
    {
     "name": "stdout",
     "output_type": "stream",
     "text": [
      "\n",
      " Customer Purchase Statistics:\n",
      "\n",
      "count    748.000000\n",
      "mean      23.891711\n",
      "std       13.899728\n",
      "min        1.000000\n",
      "25%       12.000000\n",
      "50%       24.000000\n",
      "75%       36.000000\n",
      "max       48.000000\n",
      "Name: Total Purchases, dtype: float64\n"
     ]
    }
   ],
   "source": [
    "# Descriptive statistics on 'Total Purchases'\n",
    "purchase_stats = df['Total Purchases'].describe()\n",
    "\n",
    "# Display results\n",
    "print(\"\\n Customer Purchase Statistics:\\n\")\n",
    "print(purchase_stats)\n"
   ]
  },
  {
   "cell_type": "markdown",
   "id": "1c8a5c40-c388-44b4-8664-eaf0c144755b",
   "metadata": {},
   "source": [
    "## 3. Customer Purchase Behavior by Country"
   ]
  },
  {
   "cell_type": "code",
   "execution_count": 22,
   "id": "8b23831a-2d4b-43e3-99be-35819db002f4",
   "metadata": {},
   "outputs": [
    {
     "name": "stdout",
     "output_type": "stream",
     "text": [
      "\n",
      "Country-Wise Purchase Behavior:\n",
      "\n",
      "              mean  max\n",
      "Country                \n",
      "Australia     47.0   47\n",
      "Tunisia       44.0   44\n",
      "Israel        44.0   44\n",
      "Fiji          44.0   44\n",
      "South Korea   41.0   41\n",
      "...            ...  ...\n",
      "Uganda         3.5    6\n",
      "Jamaica        3.0    3\n",
      "Bolivia        3.0    3\n",
      "Bermuda        3.0    3\n",
      "Sierra Leone   2.0    2\n",
      "\n",
      "[112 rows x 2 columns]\n"
     ]
    }
   ],
   "source": [
    "# Group by country and calculate mean & max purchases\n",
    "country_purchase_stats = df.groupby('Country')['Total Purchases'].agg(['mean', 'max']).sort_values(by='mean', ascending=False)\n",
    "\n",
    "# Display results\n",
    "print(\"\\nCountry-Wise Purchase Behavior:\\n\")\n",
    "print(country_purchase_stats)\n"
   ]
  },
  {
   "cell_type": "markdown",
   "id": "e898426d-8216-4244-94ab-e2753d4d5c66",
   "metadata": {},
   "source": [
    "## 4. Purchase Trends Over Time"
   ]
  },
  {
   "cell_type": "code",
   "execution_count": 24,
   "id": "f64b373a-fec7-4201-9ba6-8b45d2142a50",
   "metadata": {},
   "outputs": [
    {
     "data": {
      "image/png": "[encoded data removed]",
      "text/plain": [
       "<Figure size 1000x500 with 1 Axes>"
      ]
     },
     "metadata": {},
     "output_type": "display_data"
    }
   ],
   "source": [
    "import matplotlib.pyplot as plt\n",
    "\n",
    "# Extract year from 'Sign-up Date' and analyze purchase trends over time\n",
    "df['Sign-up Year'] = df['Sign-up Date'].dt.year\n",
    "\n",
    "# Group by year and calculate average purchases\n",
    "purchase_trends = df.groupby('Sign-up Year')['Total Purchases'].mean()\n",
    "\n",
    "# Plot\n",
    "plt.figure(figsize=(10, 5))\n",
    "sns.lineplot(x=purchase_trends.index, y=purchase_trends.values, marker='o', color='b')\n",
    "plt.xlabel(\"Year of Sign-up\")\n",
    "plt.ylabel(\"Average Total Purchases\")\n",
    "plt.title(\"Customer Purchase Trends Over Time\")\n",
    "plt.show()\n"
   ]
  },
  {
   "cell_type": "code",
   "execution_count": null,
   "id": "86a0dca5-aa31-4b9a-85e3-2efaecd5a6a4",
   "metadata": {},
   "outputs": [],
   "source": []
  },
  {
   "cell_type": "markdown",
   "id": "566d360f-43f3-46e8-ad36-3f8978d6c360",
   "metadata": {},
   "source": [
    "# Step 5: Data Export"
   ]
  },
  {
   "cell_type": "code",
   "execution_count": 29,
   "id": "0cf8b147-de01-4627-99d4-29a2caea3c12",
   "metadata": {},
   "outputs": [
    {
     "name": "stdout",
     "output_type": "stream",
     "text": [
      "\n",
      "Data successfully saved as processed_data_20-03-2025.csv\n",
      "\n",
      "First 10 randomly shuffled rows:\n",
      "     Customer ID  Loyalty Score      Country  Total Purchases\n",
      "582         1025              3      Finland               42\n",
      "357         1025              3     Ethiopia               37\n",
      "133         1009              2      Nigeria               10\n",
      "251         1000              3        China               21\n",
      "300         1029              3    Indonesia               30\n",
      "389         1017              3       Brazil               34\n",
      "337         1007              2       Brazil               10\n",
      "155         1031              3      Finland               39\n",
      "529         1012              3  Philippines               28\n",
      "736         1014              3  Philippines               22\n"
     ]
    }
   ],
   "source": [
    "import datetime\n",
    "import random\n",
    "\n",
    "# 1 Generate the filename using today's date in reverse order (DD-MM-YYYY)\n",
    "today_date = datetime.datetime.today().strftime('%d-%m-%Y')\n",
    "filename = f\"processed_data_{today_date}.csv\"\n",
    "\n",
    "# 2 Select only the required columns\n",
    "final_df = df[['Customer ID', 'Loyalty Score', 'Country', 'Total Purchases']]\n",
    "\n",
    "# 3 Save to CSV\n",
    "final_df.to_csv(filename, index=False)\n",
    "print(f\"\\nData successfully saved as {filename}\")\n",
    "\n",
    "# 4 Shuffle and display the first 10 rows\n",
    "shuffled_df = final_df.sample(frac=1, random_state=42).head(10)\n",
    "print(\"\\nFirst 10 randomly shuffled rows:\")\n",
    "print(shuffled_df)"
   ]
  },
  {
   "cell_type": "markdown",
   "id": "7c44feb0-079f-4198-9b14-5461a62fa6d3",
   "metadata": {},
   "source": [
    "# Report"
   ]
  },
  {
   "cell_type": "code",
   "execution_count": 26,
   "id": "943714af-74d3-4446-8688-742de88d67a0",
   "metadata": {
    "jupyter": {
     "source_hidden": true
    }
   },
   "outputs": [
    {
     "data": {
      "text/markdown": [
       "\n",
       "# Customer Segmentation Analysis Report \n",
       "\n",
       "## Summary of Findings\n",
       "1. **Data Cleaning**: \n",
       "   - Loaded 75% of the dataset.\n",
       "   - Removed consecutive duplicate rows.\n",
       "   - Converted the \"Sign-up Date\" column and replaced 2020 values with NaN.\n",
       "   - Dropped customers from Canada with less than 5 purchases.\n",
       "\n",
       "2. **Feature Engineering**:\n",
       "   - Created a \"Loyalty Score\" based on total purchases and membership duration.\n",
       "\n",
       "3. **Data Aggregation**:\n",
       "   - Calculated average and maximum purchases per country.\n",
       "   - Identified the most common loyalty score, excluding Mexico.\n",
       "\n",
       "4. **Exporting & Reporting**:\n",
       "   - Processed data saved as `\"processed_data_20-03-2025.csv\"`.\n",
       "   - Displayed a randomly shuffled preview of 10 customers.\n",
       "\n",
       "## Key Insights  \n",
       "- **China and Indonesia** have the highest number of highly loyal customers (**95** and **50**, respectively).  \n",
       "- A total of **420 customers** were classified as highly loyal.  \n",
       "- **Russia, Brazil, and the Philippines** also have notable loyal customer counts.  \n",
       "- **Mexico was excluded** from loyalty score analysis.  \n",
       "- Customers with **3+ years of membership** received a **loyalty boost** based on purchases.  \n",
       "- The **average number of purchases per customer** is **23.89**, with a **standard deviation of 13.90**, showing varied purchasing behavior.  \n",
       "- **Australia, Tunisia, Israel, Fiji, and South Korea** have the highest **average purchase rates (41-47 purchases per customer)**.  \n",
       "- **Sierra Leone, Bermuda, Bolivia, Jamaica, and Uganda** have the lowest purchase activity, with **less than 4 purchases on average**.  \n",
       "- **Generally Customer purchase trends shows an upward direction but it has fluctuated over time**, with:  \n",
       "  - A **peak in 2017**  \n",
       "  - A **decline from 2018 to 2021**  \n",
       "  - A **sharp rise in 2022**\n",
       "  - A **very sharp drop in 2023**\n"
      ],
      "text/plain": [
       "<IPython.core.display.Markdown object>"
      ]
     },
     "metadata": {},
     "output_type": "display_data"
    }
   ],
   "source": [
    "from IPython.display import display, Markdown\n",
    "\n",
    "# Markdown summary\n",
    "report = f\"\"\"\n",
    "# Customer Segmentation Analysis Report \n",
    "\n",
    "## Summary of Findings\n",
    "1. **Data Cleaning**: \n",
    "   - Loaded 75% of the dataset.\n",
    "   - Removed consecutive duplicate rows.\n",
    "   - Converted the \"Sign-up Date\" column and replaced 2020 values with NaN.\n",
    "   - Dropped customers from Canada with less than 5 purchases.\n",
    "\n",
    "2. **Feature Engineering**:\n",
    "   - Created a \"Loyalty Score\" based on total purchases and membership duration.\n",
    "\n",
    "3. **Data Aggregation**:\n",
    "   - Calculated average and maximum purchases per country.\n",
    "   - Identified the most common loyalty score, excluding Mexico.\n",
    "\n",
    "4. **Exporting & Reporting**:\n",
    "   - Processed data saved as `\"processed_data_{today_date}.csv\"`.\n",
    "   - Displayed a randomly shuffled preview of 10 customers.\n",
    "\n",
    "## Key Insights  \n",
    "- **China and Indonesia** have the highest number of highly loyal customers (**95** and **50**, respectively).  \n",
    "- A total of **420 customers** were classified as highly loyal.  \n",
    "- **Russia, Brazil, and the Philippines** also have notable loyal customer counts.  \n",
    "- **Mexico was excluded** from loyalty score analysis.  \n",
    "- Customers with **3+ years of membership** received a **loyalty boost** based on purchases.  \n",
    "- The **average number of purchases per customer** is **23.89**, with a **standard deviation of 13.90**, showing varied purchasing behavior.  \n",
    "- **Australia, Tunisia, Israel, Fiji, and South Korea** have the highest **average purchase rates (41-47 purchases per customer)**.  \n",
    "- **Sierra Leone, Bermuda, Bolivia, Jamaica, and Uganda** have the lowest purchase activity, with **less than 4 purchases on average**.  \n",
    "- **Generally Customer purchase trends shows an upward direction but it has fluctuated over time**, with:  \n",
    "  - A **peak in 2017**  \n",
    "  - A **decline from 2018 to 2021**  \n",
    "  - A **sharp rise in 2022**\n",
    "  - A **significant drop in 2023**\n",
    "\"\"\"\n",
    "\n",
    "#  Display Markdown report\n",
    "display(Markdown(report))"
   ]
  },
  {
   "cell_type": "code",
   "execution_count": null,
   "id": "8f094819-874f-4688-9f35-d05442cf89cb",
   "metadata": {},
   "outputs": [],
   "source": []
  },
  {
   "cell_type": "code",
   "execution_count": null,
   "id": "7c95b115-7054-4b0d-b857-fdded2d2ebde",
   "metadata": {},
   "outputs": [],
   "source": []
  }
 ],
 "metadata": {
  "kernelspec": {
   "display_name": "Python 3 (ipykernel)",
   "language": "python",
   "name": "python3"
  },
  "language_info": {
   "codemirror_mode": {
    "name": "ipython",
    "version": 3
   },
   "file_extension": ".py",
   "mimetype": "text/x-python",
   "name": "python",
   "nbconvert_exporter": "python",
   "pygments_lexer": "ipython3",
   "version": "3.12.0"
  }
 },
 "nbformat": 4,
 "nbformat_minor": 5
}
